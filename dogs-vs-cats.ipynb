{
 "cells": [
  {
   "cell_type": "code",
   "execution_count": 1,
   "metadata": {
    "_cell_guid": "b1076dfc-b9ad-4769-8c92-a6c4dae69d19",
    "_uuid": "8f2839f25d086af736a60e9eeb907d3b93b6e0e5"
   },
   "outputs": [
    {
     "name": "stdout",
     "output_type": "stream",
     "text": [
      "['dataset']\n"
     ]
    }
   ],
   "source": [
    "import numpy as np # linear algebra\n",
    "import pandas as pd # data processing, CSV file I/O (e.g. pd.read_csv)\n",
    "\n",
    "# Input data files are available in the \"../input/\" directory.\n",
    "# For example, running this (by clicking run or pressing Shift+Enter) will list the files in the input directory\n",
    "\n",
    "import os\n",
    "print(os.listdir(\"../input\"))\n",
    "\n",
    "# Any results you write to the current directory are saved as output"
   ]
  },
  {
   "cell_type": "code",
   "execution_count": 2,
   "metadata": {},
   "outputs": [
    {
     "name": "stderr",
     "output_type": "stream",
     "text": [
      "Using TensorFlow backend.\n"
     ]
    },
    {
     "name": "stdout",
     "output_type": "stream",
     "text": [
      "WARNING:tensorflow:From /opt/conda/lib/python3.6/site-packages/tensorflow/python/framework/op_def_library.py:263: colocate_with (from tensorflow.python.framework.ops) is deprecated and will be removed in a future version.\n",
      "Instructions for updating:\n",
      "Colocations handled automatically by placer.\n"
     ]
    },
    {
     "name": "stderr",
     "output_type": "stream",
     "text": [
      "/opt/conda/lib/python3.6/site-packages/ipykernel_launcher.py:12: UserWarning: Update your `Dense` call to the Keras 2 API: `Dense(activation=\"sigmoid\", kernel_initializer=\"uniform\", units=1)`\n",
      "  if sys.path[0] == '':\n"
     ]
    },
    {
     "name": "stdout",
     "output_type": "stream",
     "text": [
      "Found 8000 images belonging to 2 classes.\n",
      "Found 2000 images belonging to 2 classes.\n",
      "WARNING:tensorflow:From /opt/conda/lib/python3.6/site-packages/tensorflow/python/ops/math_ops.py:3066: to_int32 (from tensorflow.python.ops.math_ops) is deprecated and will be removed in a future version.\n",
      "Instructions for updating:\n",
      "Use tf.cast instead.\n"
     ]
    },
    {
     "name": "stderr",
     "output_type": "stream",
     "text": [
      "/opt/conda/lib/python3.6/site-packages/ipykernel_launcher.py:33: UserWarning: The semantics of the Keras 2 argument `steps_per_epoch` is not the same as the Keras 1 argument `samples_per_epoch`. `steps_per_epoch` is the number of batches to draw from the generator at each epoch. Basically steps_per_epoch = samples_per_epoch/batch_size. Similarly `nb_val_samples`->`validation_steps` and `val_samples`->`steps` arguments have changed. Update your method calls accordingly.\n",
      "/opt/conda/lib/python3.6/site-packages/ipykernel_launcher.py:33: UserWarning: Update your `fit_generator` call to the Keras 2 API: `fit_generator(<keras_pre..., validation_data=<keras_pre..., steps_per_epoch=250, epochs=25, validation_steps=2000)`\n"
     ]
    },
    {
     "name": "stdout",
     "output_type": "stream",
     "text": [
      "Epoch 1/25\n",
      "250/250 [==============================] - 262s 1s/step - loss: 0.6560 - acc: 0.6011 - val_loss: 0.6236 - val_acc: 0.6640\n",
      "Epoch 2/25\n",
      "250/250 [==============================] - 244s 976ms/step - loss: 0.5939 - acc: 0.6816 - val_loss: 0.5928 - val_acc: 0.6837\n",
      "Epoch 3/25\n",
      "250/250 [==============================] - 244s 977ms/step - loss: 0.5683 - acc: 0.7012 - val_loss: 0.5633 - val_acc: 0.7134\n",
      "Epoch 4/25\n",
      "250/250 [==============================] - 244s 977ms/step - loss: 0.5441 - acc: 0.7204 - val_loss: 0.5623 - val_acc: 0.7182\n",
      "Epoch 5/25\n",
      "250/250 [==============================] - 244s 976ms/step - loss: 0.5255 - acc: 0.7270 - val_loss: 0.5619 - val_acc: 0.7135\n",
      "Epoch 6/25\n",
      "250/250 [==============================] - 244s 975ms/step - loss: 0.5112 - acc: 0.7426 - val_loss: 0.5604 - val_acc: 0.7045\n",
      "Epoch 7/25\n",
      "250/250 [==============================] - 244s 975ms/step - loss: 0.4992 - acc: 0.7544 - val_loss: 0.5281 - val_acc: 0.7419\n",
      "Epoch 8/25\n",
      "250/250 [==============================] - 244s 977ms/step - loss: 0.4834 - acc: 0.7674 - val_loss: 0.5331 - val_acc: 0.7419\n",
      "Epoch 9/25\n",
      "250/250 [==============================] - 244s 975ms/step - loss: 0.4629 - acc: 0.7772 - val_loss: 0.5455 - val_acc: 0.7475\n",
      "Epoch 10/25\n",
      "250/250 [==============================] - 244s 975ms/step - loss: 0.4537 - acc: 0.7859 - val_loss: 0.5237 - val_acc: 0.7542\n",
      "Epoch 11/25\n",
      "250/250 [==============================] - 244s 976ms/step - loss: 0.4516 - acc: 0.7835 - val_loss: 0.5318 - val_acc: 0.7489\n",
      "Epoch 12/25\n",
      "250/250 [==============================] - 244s 978ms/step - loss: 0.4230 - acc: 0.8064 - val_loss: 0.5461 - val_acc: 0.7479\n",
      "Epoch 13/25\n",
      "250/250 [==============================] - 245s 978ms/step - loss: 0.4196 - acc: 0.8031 - val_loss: 0.5497 - val_acc: 0.7406\n",
      "Epoch 14/25\n",
      "250/250 [==============================] - 244s 974ms/step - loss: 0.4058 - acc: 0.8124 - val_loss: 0.5137 - val_acc: 0.7681\n",
      "Epoch 15/25\n",
      "250/250 [==============================] - 244s 975ms/step - loss: 0.3985 - acc: 0.8202 - val_loss: 0.5363 - val_acc: 0.7491\n",
      "Epoch 16/25\n",
      "250/250 [==============================] - 243s 974ms/step - loss: 0.3834 - acc: 0.8228 - val_loss: 0.5376 - val_acc: 0.7517\n",
      "Epoch 17/25\n",
      "250/250 [==============================] - 243s 972ms/step - loss: 0.3739 - acc: 0.8325 - val_loss: 0.5407 - val_acc: 0.7649\n",
      "Epoch 18/25\n",
      "250/250 [==============================] - 244s 975ms/step - loss: 0.3551 - acc: 0.8399 - val_loss: 0.5347 - val_acc: 0.7590\n",
      "Epoch 19/25\n",
      "250/250 [==============================] - 243s 972ms/step - loss: 0.3548 - acc: 0.8449 - val_loss: 0.5426 - val_acc: 0.7635\n",
      "Epoch 20/25\n",
      "250/250 [==============================] - 243s 972ms/step - loss: 0.3357 - acc: 0.8525 - val_loss: 0.5539 - val_acc: 0.7640\n",
      "Epoch 21/25\n",
      "250/250 [==============================] - 243s 971ms/step - loss: 0.3198 - acc: 0.8646 - val_loss: 0.5447 - val_acc: 0.7705\n",
      "Epoch 22/25\n",
      "250/250 [==============================] - 242s 969ms/step - loss: 0.3124 - acc: 0.8636 - val_loss: 0.5590 - val_acc: 0.7650\n",
      "Epoch 23/25\n",
      "250/250 [==============================] - 242s 967ms/step - loss: 0.2979 - acc: 0.8758 - val_loss: 0.5682 - val_acc: 0.7650\n",
      "Epoch 24/25\n",
      "250/250 [==============================] - 242s 968ms/step - loss: 0.2887 - acc: 0.8779 - val_loss: 0.5915 - val_acc: 0.7590\n",
      "Epoch 25/25\n",
      "208/250 [=======================>......] - ETA: 4s - loss: 0.2813 - acc: 0.8812"
     ]
    }
   ],
   "source": [
    "from keras.models import Sequential\n",
    "from keras.layers import Convolution2D\n",
    "from keras.layers import MaxPooling2D\n",
    "from keras.layers import Flatten\n",
    "from keras.layers import Dense\n",
    "\n",
    "classifier=Sequential()\n",
    "classifier.add(Convolution2D(32,(3,3),activation='relu',input_shape=(64,64,3)))\n",
    "classifier.add(MaxPooling2D(pool_size=(2,2)))\n",
    "classifier.add(Flatten())\n",
    "classifier.add(Dense(128, activation=\"relu\", kernel_initializer=\"uniform\"))\n",
    "classifier.add(Dense(output_dim=1,activation='sigmoid',kernel_initializer=\"uniform\"))\n",
    "classifier.compile(optimizer='adam',loss='binary_crossentropy',metrics=['accuracy'])\n",
    "from keras.preprocessing.image import ImageDataGenerator\n",
    "train_datagen = ImageDataGenerator(rescale=1./255,\n",
    "                                   shear_range=0.2,\n",
    "                                  zoom_range=0.2,\n",
    "                                  horizontal_flip=True)\n",
    "test_datagen=ImageDataGenerator(rescale=1./255)\n",
    "training_set=train_datagen.flow_from_directory('../input/dataset/dataset/training_set',\n",
    "                                             target_size=(64,64),\n",
    "                                             batch_size=32,\n",
    "                                            class_mode='binary')\n",
    "test_set=train_datagen.flow_from_directory('../input/dataset/dataset/test_set',\n",
    "                                             target_size=(64,64),\n",
    "                                              batch_size=32,\n",
    "                                              class_mode='binary')\n",
    "\n",
    "classifier.fit_generator(training_set,\n",
    "                         samples_per_epoch=8000,\n",
    "                         nb_epoch=25,\n",
    "                         validation_data=test_set,\n",
    "                         nb_val_samples=2000)\n"
   ]
  },
  {
   "cell_type": "code",
   "execution_count": 3,
   "metadata": {
    "_cell_guid": "79c7e3d0-c299-4dcb-8224-4455121ee9b0",
    "_uuid": "d629ff2d2480ee46fbb7e2d37f6b5fab8052498a"
   },
   "outputs": [
    {
     "name": "stdout",
     "output_type": "stream",
     "text": [
      "['dogs', 'cats']\n"
     ]
    }
   ],
   "source": [
    "import os\n",
    "print(os.listdir(\"../input/dataset/dataset/test_set\"))"
   ]
  },
  {
   "cell_type": "code",
   "execution_count": 4,
   "metadata": {},
   "outputs": [],
   "source": []
  }
 ],
 "metadata": {
  "kernelspec": {
   "display_name": "Python 3",
   "language": "python",
   "name": "python3"
  },
  "language_info": {
   "codemirror_mode": {
    "name": "ipython",
    "version": 3
   },
   "file_extension": ".py",
   "mimetype": "text/x-python",
   "name": "python",
   "nbconvert_exporter": "python",
   "pygments_lexer": "ipython3",
   "version": "3.6.4"
  }
 },
 "nbformat": 4,
 "nbformat_minor": 1
}
